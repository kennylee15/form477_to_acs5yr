{
 "cells": [
  {
   "cell_type": "markdown",
   "id": "2888aee3",
   "metadata": {},
   "source": [
    "# FCC Form 477 & social and demographic data from ACS 5yr 2019 vintage"
   ]
  },
  {
   "cell_type": "markdown",
   "id": "bf307b1c",
   "metadata": {},
   "source": [
    "I linked FCC form 477 data to social and demographic data from ACS 5-year estimate between 2015-19. The FCC 477 data were aggregated to a **census block** level. The social and demographic data are on a **census block group** basis and were propagated down to constituent census blocks. "
   ]
  },
  {
   "cell_type": "markdown",
   "id": "b3aa201b",
   "metadata": {},
   "source": [
    "### Packages and version check"
   ]
  },
  {
   "cell_type": "code",
   "execution_count": 1,
   "id": "11841258",
   "metadata": {
    "scrolled": true
   },
   "outputs": [
    {
     "name": "stdout",
     "output_type": "stream",
     "text": [
      "Timestamp\n",
      "2021-05-07 13:13:42UTC\n",
      "Versions\n",
      "Python: sys.version_info(major=3, minor=8, micro=8, releaselevel='final', serial=0)\n",
      "numpy: 1.20.1\n",
      "pandas: 1.2.4\n",
      "dask: 2021.04.0\n"
     ]
    }
   ],
   "source": [
    "import collections\n",
    "import functools\n",
    "import os\n",
    "import sys\n",
    "import time\n",
    "import numpy as np\n",
    "import pandas as pd\n",
    "import dask as d\n",
    "import dask.dataframe as dd\n",
    "from dask.diagnostics import ProgressBar\n",
    "\n",
    "import seaborn as sns\n",
    "import matplotlib.pyplot as plt\n",
    "%matplotlib inline\n",
    "# plt.rcParams.update({'font.size': 50})\n",
    "plt.rcParams['font.size'] = 20\n",
    "plt.rcParams['figure.figsize'] = [8, 6]\n",
    "sns.set()\n",
    "\n",
    "print(\"Timestamp\")\n",
    "print(time.strftime(r'%Y-%m-%d %H:%M:%S%Z', time.gmtime()))\n",
    "print(\"Versions\")\n",
    "print(\"Python:\", sys.version_info)\n",
    "print(\"numpy:\", np.__version__)\n",
    "print(\"pandas:\", pd.__version__)\n",
    "print(\"dask:\", d.__version__)\n"
   ]
  },
  {
   "cell_type": "code",
   "execution_count": 3,
   "id": "4b87d210",
   "metadata": {},
   "outputs": [
    {
     "data": {
      "text/html": [
       "<div>\n",
       "<style scoped>\n",
       "    .dataframe tbody tr th:only-of-type {\n",
       "        vertical-align: middle;\n",
       "    }\n",
       "\n",
       "    .dataframe tbody tr th {\n",
       "        vertical-align: top;\n",
       "    }\n",
       "\n",
       "    .dataframe thead th {\n",
       "        text-align: right;\n",
       "    }\n",
       "</style>\n",
       "<table border=\"1\" class=\"dataframe\">\n",
       "  <thead>\n",
       "    <tr style=\"text-align: right;\">\n",
       "      <th></th>\n",
       "      <th>BlockCodeStr</th>\n",
       "      <th>TractCode</th>\n",
       "      <th>BlockGroupCode</th>\n",
       "      <th>BlkMaxAdUp</th>\n",
       "      <th>BlkMaxAdDown</th>\n",
       "      <th>D10_1</th>\n",
       "      <th>D25_3</th>\n",
       "      <th>ProviderCount</th>\n",
       "      <th>metro</th>\n",
       "      <th>TractCode_1</th>\n",
       "      <th>...</th>\n",
       "      <th>epop</th>\n",
       "      <th>ur</th>\n",
       "      <th>mpop</th>\n",
       "      <th>educ</th>\n",
       "      <th>pvty</th>\n",
       "      <th>nwhite</th>\n",
       "      <th>black</th>\n",
       "      <th>hispanic</th>\n",
       "      <th>veteran</th>\n",
       "      <th>computer</th>\n",
       "    </tr>\n",
       "  </thead>\n",
       "  <tbody>\n",
       "    <tr>\n",
       "      <th>0</th>\n",
       "      <td>482239503002173</td>\n",
       "      <td>48223950300</td>\n",
       "      <td>482239503002</td>\n",
       "      <td>25.000</td>\n",
       "      <td>115.000</td>\n",
       "      <td>True</td>\n",
       "      <td>True</td>\n",
       "      <td>3</td>\n",
       "      <td>0.0</td>\n",
       "      <td>4.822395e+10</td>\n",
       "      <td>...</td>\n",
       "      <td>47.998445</td>\n",
       "      <td>0.000000</td>\n",
       "      <td>0.000000</td>\n",
       "      <td>17.502917</td>\n",
       "      <td>3.381267</td>\n",
       "      <td>9.405363</td>\n",
       "      <td>3.070346</td>\n",
       "      <td>17.567042</td>\n",
       "      <td>8.705791</td>\n",
       "      <td>91.166478</td>\n",
       "    </tr>\n",
       "    <tr>\n",
       "      <th>1</th>\n",
       "      <td>280299503001023</td>\n",
       "      <td>28029950300</td>\n",
       "      <td>280299503001</td>\n",
       "      <td>0.128</td>\n",
       "      <td>0.768</td>\n",
       "      <td>False</td>\n",
       "      <td>False</td>\n",
       "      <td>1</td>\n",
       "      <td>1.0</td>\n",
       "      <td>2.802995e+10</td>\n",
       "      <td>...</td>\n",
       "      <td>36.300844</td>\n",
       "      <td>10.754717</td>\n",
       "      <td>0.000000</td>\n",
       "      <td>8.157100</td>\n",
       "      <td>19.186493</td>\n",
       "      <td>57.022256</td>\n",
       "      <td>57.022256</td>\n",
       "      <td>0.000000</td>\n",
       "      <td>3.990790</td>\n",
       "      <td>79.609544</td>\n",
       "    </tr>\n",
       "    <tr>\n",
       "      <th>2</th>\n",
       "      <td>271617902001129</td>\n",
       "      <td>27161790200</td>\n",
       "      <td>271617902001</td>\n",
       "      <td>10000.000</td>\n",
       "      <td>10000.000</td>\n",
       "      <td>True</td>\n",
       "      <td>True</td>\n",
       "      <td>2</td>\n",
       "      <td>0.0</td>\n",
       "      <td>2.716179e+10</td>\n",
       "      <td>...</td>\n",
       "      <td>53.615280</td>\n",
       "      <td>2.962963</td>\n",
       "      <td>0.000000</td>\n",
       "      <td>19.056604</td>\n",
       "      <td>6.957708</td>\n",
       "      <td>2.319236</td>\n",
       "      <td>0.000000</td>\n",
       "      <td>1.091405</td>\n",
       "      <td>5.457026</td>\n",
       "      <td>88.025890</td>\n",
       "    </tr>\n",
       "    <tr>\n",
       "      <th>3</th>\n",
       "      <td>060411082003024</td>\n",
       "      <td>06041108200</td>\n",
       "      <td>060411082003</td>\n",
       "      <td>20.000</td>\n",
       "      <td>80.000</td>\n",
       "      <td>True</td>\n",
       "      <td>True</td>\n",
       "      <td>2</td>\n",
       "      <td>1.0</td>\n",
       "      <td>6.041108e+09</td>\n",
       "      <td>...</td>\n",
       "      <td>33.474320</td>\n",
       "      <td>22.733612</td>\n",
       "      <td>0.000000</td>\n",
       "      <td>50.080386</td>\n",
       "      <td>15.313759</td>\n",
       "      <td>47.092689</td>\n",
       "      <td>0.000000</td>\n",
       "      <td>26.367300</td>\n",
       "      <td>4.835924</td>\n",
       "      <td>76.209150</td>\n",
       "    </tr>\n",
       "    <tr>\n",
       "      <th>4</th>\n",
       "      <td>191499706002042</td>\n",
       "      <td>19149970600</td>\n",
       "      <td>191499706002</td>\n",
       "      <td>5.000</td>\n",
       "      <td>60.000</td>\n",
       "      <td>True</td>\n",
       "      <td>True</td>\n",
       "      <td>5</td>\n",
       "      <td>1.0</td>\n",
       "      <td>1.914997e+10</td>\n",
       "      <td>...</td>\n",
       "      <td>50.362319</td>\n",
       "      <td>2.250352</td>\n",
       "      <td>0.933238</td>\n",
       "      <td>24.879460</td>\n",
       "      <td>4.522613</td>\n",
       "      <td>3.374013</td>\n",
       "      <td>1.938263</td>\n",
       "      <td>4.594401</td>\n",
       "      <td>8.327351</td>\n",
       "      <td>86.619718</td>\n",
       "    </tr>\n",
       "  </tbody>\n",
       "</table>\n",
       "<p>5 rows × 30 columns</p>\n",
       "</div>"
      ],
      "text/plain": [
       "      BlockCodeStr    TractCode BlockGroupCode  BlkMaxAdUp  BlkMaxAdDown  \\\n",
       "0  482239503002173  48223950300   482239503002      25.000       115.000   \n",
       "1  280299503001023  28029950300   280299503001       0.128         0.768   \n",
       "2  271617902001129  27161790200   271617902001   10000.000     10000.000   \n",
       "3  060411082003024  06041108200   060411082003      20.000        80.000   \n",
       "4  191499706002042  19149970600   191499706002       5.000        60.000   \n",
       "\n",
       "   D10_1  D25_3  ProviderCount  metro   TractCode_1  ...       epop  \\\n",
       "0   True   True              3    0.0  4.822395e+10  ...  47.998445   \n",
       "1  False  False              1    1.0  2.802995e+10  ...  36.300844   \n",
       "2   True   True              2    0.0  2.716179e+10  ...  53.615280   \n",
       "3   True   True              2    1.0  6.041108e+09  ...  33.474320   \n",
       "4   True   True              5    1.0  1.914997e+10  ...  50.362319   \n",
       "\n",
       "          ur      mpop       educ       pvty     nwhite      black   hispanic  \\\n",
       "0   0.000000  0.000000  17.502917   3.381267   9.405363   3.070346  17.567042   \n",
       "1  10.754717  0.000000   8.157100  19.186493  57.022256  57.022256   0.000000   \n",
       "2   2.962963  0.000000  19.056604   6.957708   2.319236   0.000000   1.091405   \n",
       "3  22.733612  0.000000  50.080386  15.313759  47.092689   0.000000  26.367300   \n",
       "4   2.250352  0.933238  24.879460   4.522613   3.374013   1.938263   4.594401   \n",
       "\n",
       "    veteran   computer  \n",
       "0  8.705791  91.166478  \n",
       "1  3.990790  79.609544  \n",
       "2  5.457026  88.025890  \n",
       "3  4.835924  76.209150  \n",
       "4  8.327351  86.619718  \n",
       "\n",
       "[5 rows x 30 columns]"
      ]
     },
     "execution_count": 3,
     "metadata": {},
     "output_type": "execute_result"
    }
   ],
   "source": [
    "file_address = \"/Volumes/GoogleDrive/My Drive/Broadband Data/form411_combined_00000000000*~\"\n",
    "df = dd.read_csv(file_address, dtype = {'BlockCodeStr' : str,\n",
    "                                        'TractCode' : str, \n",
    "                                        'BlockGroupCode' : str})\n",
    "df.head()"
   ]
  },
  {
   "cell_type": "markdown",
   "id": "92d85714",
   "metadata": {},
   "source": [
    "## Data cleaning\n",
    "\n",
    "- Each row is a census block. \n",
    "- All missing values for metro/nonmetro designation from USDA's RUCA dataset are for U.S. outlying territories. Let's drop them. \n",
    "- Most areas with very small civilian noninstitutionalized population are mostly military facilities or prisons. To avoid losing too much info, we drop rows with institutionalized population's share of total greater than 90%."
   ]
  },
  {
   "cell_type": "code",
   "execution_count": 5,
   "id": "2c180dbc",
   "metadata": {},
   "outputs": [
    {
     "data": {
      "text/plain": [
       "9414481"
      ]
     },
     "execution_count": 5,
     "metadata": {},
     "output_type": "execute_result"
    }
   ],
   "source": [
    "# Starting number of census blocks\n",
    "len(df)"
   ]
  },
  {
   "cell_type": "code",
   "execution_count": 6,
   "id": "5bef0020",
   "metadata": {},
   "outputs": [],
   "source": [
    "# Drop census blocks in outlying territories\n",
    "df['state_FIPS'] = df['BlockCodeStr'].str[:2].astype(int)\n",
    "subset_df = df.loc[df['state_FIPS'] < 60, :]\n",
    "\n",
    "# Drop rows with institutionalized population's share of total greater than 90%.\n",
    "subset_df = subset_df.loc[subset_df['inspopshr'] < 90, :]\n",
    "\n",
    "# Drop census blocks with land areas zero\n",
    "subset_df = subset_df.loc[subset_df['land'] > 0,:]"
   ]
  },
  {
   "cell_type": "code",
   "execution_count": 7,
   "id": "2c791eb7",
   "metadata": {},
   "outputs": [
    {
     "data": {
      "text/plain": [
       "9296862"
      ]
     },
     "execution_count": 7,
     "metadata": {},
     "output_type": "execute_result"
    }
   ],
   "source": [
    "# Resulting number of census blocks\n",
    "len(subset_df)"
   ]
  },
  {
   "cell_type": "markdown",
   "id": "cf14104c",
   "metadata": {},
   "source": [
    "### Check for missing data"
   ]
  },
  {
   "cell_type": "code",
   "execution_count": 8,
   "id": "30bc5b57",
   "metadata": {},
   "outputs": [
    {
     "data": {
      "text/plain": [
       "Dask Series Structure:\n",
       "npartitions=1\n",
       "BlkMaxAdDown    int64\n",
       "veteran           ...\n",
       "dtype: int64\n",
       "Dask Name: dataframe-sum-agg, 801 tasks"
      ]
     },
     "execution_count": 8,
     "metadata": {},
     "output_type": "execute_result"
    }
   ],
   "source": [
    "# count missing values\n",
    "missing_values = subset_df.isnull().sum()\n",
    "missing_values"
   ]
  },
  {
   "cell_type": "code",
   "execution_count": 9,
   "id": "06c3cfef",
   "metadata": {},
   "outputs": [
    {
     "data": {
      "text/plain": [
       "Dask Series Structure:\n",
       "npartitions=1\n",
       "BlkMaxAdDown    float64\n",
       "veteran             ...\n",
       "dtype: float64\n",
       "Dask Name: mul, 904 tasks"
      ]
     },
     "execution_count": 9,
     "metadata": {},
     "output_type": "execute_result"
    }
   ],
   "source": [
    "# calculate percent missing values\n",
    "mysize = subset_df.index.size\n",
    "missing_count = ((missing_values / mysize) * 100)\n",
    "missing_count"
   ]
  },
  {
   "cell_type": "markdown",
   "id": "b0bf389d",
   "metadata": {},
   "source": [
    "Setting a filter on the share of institutionalized population helps reduce missing observations for economic variables."
   ]
  },
  {
   "cell_type": "code",
   "execution_count": 10,
   "id": "1ec1fdf8",
   "metadata": {},
   "outputs": [
    {
     "name": "stdout",
     "output_type": "stream",
     "text": [
      "[########################################] | 100% Completed | 44.6s\n"
     ]
    },
    {
     "data": {
      "text/plain": [
       "BlockCodeStr      0.000000\n",
       "TractCode         0.000000\n",
       "BlockGroupCode    0.000000\n",
       "BlkMaxAdUp        0.000000\n",
       "BlkMaxAdDown      0.000000\n",
       "D10_1             0.000000\n",
       "D25_3             0.000000\n",
       "ProviderCount     0.000000\n",
       "metro             0.000000\n",
       "TractCode_1       0.000000\n",
       "state             0.000000\n",
       "county            0.000000\n",
       "ruca              0.000000\n",
       "land              0.000000\n",
       "block_fips_str    0.000000\n",
       "pop2019           0.000000\n",
       "GEOID             0.000000\n",
       "pop               0.000000\n",
       "cnipop            0.000000\n",
       "inspopshr         0.000000\n",
       "epop              0.000000\n",
       "ur                0.011703\n",
       "mpop              0.000000\n",
       "educ              0.029064\n",
       "pvty              0.000000\n",
       "nwhite            0.000000\n",
       "black             0.000000\n",
       "hispanic          0.000000\n",
       "veteran           0.000000\n",
       "computer          0.022717\n",
       "state_FIPS        0.000000\n",
       "dtype: float64"
      ]
     },
     "execution_count": 10,
     "metadata": {},
     "output_type": "execute_result"
    }
   ],
   "source": [
    "# run computations using compute method\n",
    "with ProgressBar():\n",
    "    missing_count_percent = missing_count.compute()\n",
    "missing_count_percent"
   ]
  },
  {
   "cell_type": "markdown",
   "id": "88b90519",
   "metadata": {},
   "source": [
    "## Analysis"
   ]
  },
  {
   "cell_type": "code",
   "execution_count": 11,
   "id": "0432ca77",
   "metadata": {},
   "outputs": [
    {
     "name": "stdout",
     "output_type": "stream",
     "text": [
      "[########################################] | 100% Completed | 42.3s\n"
     ]
    }
   ],
   "source": [
    "with ProgressBar():\n",
    "    pd_subset_df = subset_df.compute()"
   ]
  },
  {
   "cell_type": "code",
   "execution_count": 17,
   "id": "7c666e92",
   "metadata": {
    "scrolled": true
   },
   "outputs": [
    {
     "name": "stdout",
     "output_type": "stream",
     "text": [
      "<class 'pandas.core.frame.DataFrame'>\n",
      "Int64Index: 9296862 entries, 0 to 82055\n",
      "Data columns (total 31 columns):\n",
      " #   Column          Dtype  \n",
      "---  ------          -----  \n",
      " 0   BlockCodeStr    object \n",
      " 1   TractCode       object \n",
      " 2   BlockGroupCode  object \n",
      " 3   BlkMaxAdUp      float64\n",
      " 4   BlkMaxAdDown    float64\n",
      " 5   D10_1           bool   \n",
      " 6   D25_3           bool   \n",
      " 7   ProviderCount   int64  \n",
      " 8   metro           float64\n",
      " 9   TractCode_1     float64\n",
      " 10  state           object \n",
      " 11  county          object \n",
      " 12  ruca            float64\n",
      " 13  land            float64\n",
      " 14  block_fips_str  int64  \n",
      " 15  pop2019         int64  \n",
      " 16  GEOID           float64\n",
      " 17  pop             float64\n",
      " 18  cnipop          float64\n",
      " 19  inspopshr       float64\n",
      " 20  epop            float64\n",
      " 21  ur              float64\n",
      " 22  mpop            float64\n",
      " 23  educ            float64\n",
      " 24  pvty            float64\n",
      " 25  nwhite          float64\n",
      " 26  black           float64\n",
      " 27  hispanic        float64\n",
      " 28  veteran         float64\n",
      " 29  computer        float64\n",
      " 30  state_FIPS      int64  \n",
      "dtypes: bool(2), float64(20), int64(4), object(5)\n",
      "memory usage: 2.1+ GB\n"
     ]
    }
   ],
   "source": [
    "pd_subset_df.info()"
   ]
  },
  {
   "cell_type": "code",
   "execution_count": 15,
   "id": "54788243",
   "metadata": {},
   "outputs": [
    {
     "data": {
      "text/html": [
       "<div>\n",
       "<style scoped>\n",
       "    .dataframe tbody tr th:only-of-type {\n",
       "        vertical-align: middle;\n",
       "    }\n",
       "\n",
       "    .dataframe tbody tr th {\n",
       "        vertical-align: top;\n",
       "    }\n",
       "\n",
       "    .dataframe thead th {\n",
       "        text-align: right;\n",
       "    }\n",
       "</style>\n",
       "<table border=\"1\" class=\"dataframe\">\n",
       "  <thead>\n",
       "    <tr style=\"text-align: right;\">\n",
       "      <th></th>\n",
       "      <th>BlockCodeStr</th>\n",
       "      <th>TractCode</th>\n",
       "      <th>BlockGroupCode</th>\n",
       "      <th>BlkMaxAdUp</th>\n",
       "      <th>BlkMaxAdDown</th>\n",
       "      <th>D10_1</th>\n",
       "      <th>D25_3</th>\n",
       "      <th>ProviderCount</th>\n",
       "      <th>metro</th>\n",
       "      <th>TractCode_1</th>\n",
       "      <th>...</th>\n",
       "      <th>ur</th>\n",
       "      <th>mpop</th>\n",
       "      <th>educ</th>\n",
       "      <th>pvty</th>\n",
       "      <th>nwhite</th>\n",
       "      <th>black</th>\n",
       "      <th>hispanic</th>\n",
       "      <th>veteran</th>\n",
       "      <th>computer</th>\n",
       "      <th>state_FIPS</th>\n",
       "    </tr>\n",
       "  </thead>\n",
       "  <tbody>\n",
       "  </tbody>\n",
       "</table>\n",
       "<p>0 rows × 31 columns</p>\n",
       "</div>"
      ],
      "text/plain": [
       "Empty DataFrame\n",
       "Columns: [BlockCodeStr, TractCode, BlockGroupCode, BlkMaxAdUp, BlkMaxAdDown, D10_1, D25_3, ProviderCount, metro, TractCode_1, state, county, ruca, land, block_fips_str, pop2019, GEOID, pop, cnipop, inspopshr, epop, ur, mpop, educ, pvty, nwhite, black, hispanic, veteran, computer, state_FIPS]\n",
       "Index: []\n",
       "\n",
       "[0 rows x 31 columns]"
      ]
     },
     "execution_count": 15,
     "metadata": {},
     "output_type": "execute_result"
    }
   ],
   "source": [
    "pd_subset_df.loc[pd_subset_df['BlockGroupCode'].str[:5]=='46113',:]"
   ]
  },
  {
   "cell_type": "code",
   "execution_count": 16,
   "id": "1ba392ed",
   "metadata": {},
   "outputs": [
    {
     "data": {
      "text/html": [
       "<div>\n",
       "<style scoped>\n",
       "    .dataframe tbody tr th:only-of-type {\n",
       "        vertical-align: middle;\n",
       "    }\n",
       "\n",
       "    .dataframe tbody tr th {\n",
       "        vertical-align: top;\n",
       "    }\n",
       "\n",
       "    .dataframe thead th {\n",
       "        text-align: right;\n",
       "    }\n",
       "</style>\n",
       "<table border=\"1\" class=\"dataframe\">\n",
       "  <thead>\n",
       "    <tr style=\"text-align: right;\">\n",
       "      <th></th>\n",
       "      <th>BlockCodeStr</th>\n",
       "      <th>TractCode</th>\n",
       "      <th>BlockGroupCode</th>\n",
       "      <th>BlkMaxAdUp</th>\n",
       "      <th>BlkMaxAdDown</th>\n",
       "      <th>D10_1</th>\n",
       "      <th>D25_3</th>\n",
       "      <th>ProviderCount</th>\n",
       "      <th>metro</th>\n",
       "      <th>TractCode_1</th>\n",
       "      <th>...</th>\n",
       "      <th>ur</th>\n",
       "      <th>mpop</th>\n",
       "      <th>educ</th>\n",
       "      <th>pvty</th>\n",
       "      <th>nwhite</th>\n",
       "      <th>black</th>\n",
       "      <th>hispanic</th>\n",
       "      <th>veteran</th>\n",
       "      <th>computer</th>\n",
       "      <th>state_FIPS</th>\n",
       "    </tr>\n",
       "  </thead>\n",
       "  <tbody>\n",
       "  </tbody>\n",
       "</table>\n",
       "<p>0 rows × 31 columns</p>\n",
       "</div>"
      ],
      "text/plain": [
       "Empty DataFrame\n",
       "Columns: [BlockCodeStr, TractCode, BlockGroupCode, BlkMaxAdUp, BlkMaxAdDown, D10_1, D25_3, ProviderCount, metro, TractCode_1, state, county, ruca, land, block_fips_str, pop2019, GEOID, pop, cnipop, inspopshr, epop, ur, mpop, educ, pvty, nwhite, black, hispanic, veteran, computer, state_FIPS]\n",
       "Index: []\n",
       "\n",
       "[0 rows x 31 columns]"
      ]
     },
     "execution_count": 16,
     "metadata": {},
     "output_type": "execute_result"
    }
   ],
   "source": [
    "pd_subset_df.loc[pd_subset_df['BlockGroupCode'].str[:5]=='46102',:]"
   ]
  },
  {
   "cell_type": "markdown",
   "id": "d2acff12",
   "metadata": {},
   "source": [
    "I follow USDA Economic Research Service's rural-urban commuting area (RUCA) codes to classify metro and nonmetro areas. Census tracts are classified using measures of population density, urbanization, and daily commuting. See detailed description at the USDA [website](https://www.ers.usda.gov/data-products/rural-urban-commuting-area-codes/documentation/). Codes 1 through 3 are considered metro areas and the rest are considered nonmetro areas."
   ]
  },
  {
   "cell_type": "code",
   "execution_count": 109,
   "id": "ecfc1b0d",
   "metadata": {},
   "outputs": [
    {
     "data": {
      "image/png": "[encoded data removed]",
      "text/plain": [
       "<Figure size 576x432 with 1 Axes>"
      ]
     },
     "metadata": {},
     "output_type": "display_data"
    }
   ],
   "source": [
    "sns.set(style='darkgrid')\n",
    "sns.countplot(x='metro', hue='D25_3', data=pd_subset_df)\n",
    "plt.title('Blocks with 25Mb/3Mb service availability')\n",
    "plt.xlabel('Metro (Yes = 1, No = 0)')\n",
    "plt.ylabel('Count');\n"
   ]
  },
  {
   "cell_type": "code",
   "execution_count": 110,
   "id": "e1bc4a44",
   "metadata": {},
   "outputs": [
    {
     "data": {
      "image/png": "[encoded data removed]",
      "text/plain": [
       "<Figure size 576x432 with 1 Axes>"
      ]
     },
     "metadata": {},
     "output_type": "display_data"
    }
   ],
   "source": [
    "sns.set(style='darkgrid')\n",
    "sns.countplot(x='metro', hue='D10_1', data=pd_subset_df)\n",
    "plt.title('Blocks with 10Mb/1Mb service availability')\n",
    "plt.xlabel('Metro (Yes = 1, No = 0)')\n",
    "plt.ylabel('Count');\n"
   ]
  },
  {
   "cell_type": "code",
   "execution_count": 65,
   "id": "9fddc9e7",
   "metadata": {},
   "outputs": [
    {
     "data": {
      "text/html": [
       "<div>\n",
       "<style scoped>\n",
       "    .dataframe tbody tr th:only-of-type {\n",
       "        vertical-align: middle;\n",
       "    }\n",
       "\n",
       "    .dataframe tbody tr th {\n",
       "        vertical-align: top;\n",
       "    }\n",
       "\n",
       "    .dataframe thead th {\n",
       "        text-align: right;\n",
       "    }\n",
       "</style>\n",
       "<table border=\"1\" class=\"dataframe\">\n",
       "  <thead>\n",
       "    <tr style=\"text-align: right;\">\n",
       "      <th>metro</th>\n",
       "      <th>0.0</th>\n",
       "      <th>1.0</th>\n",
       "    </tr>\n",
       "    <tr>\n",
       "      <th>D25_3</th>\n",
       "      <th></th>\n",
       "      <th></th>\n",
       "    </tr>\n",
       "  </thead>\n",
       "  <tbody>\n",
       "    <tr>\n",
       "      <th>False</th>\n",
       "      <td>0.233488</td>\n",
       "      <td>0.084924</td>\n",
       "    </tr>\n",
       "    <tr>\n",
       "      <th>True</th>\n",
       "      <td>0.766512</td>\n",
       "      <td>0.915076</td>\n",
       "    </tr>\n",
       "  </tbody>\n",
       "</table>\n",
       "</div>"
      ],
      "text/plain": [
       "metro       0.0       1.0\n",
       "D25_3                    \n",
       "False  0.233488  0.084924\n",
       "True   0.766512  0.915076"
      ]
     },
     "execution_count": 65,
     "metadata": {},
     "output_type": "execute_result"
    }
   ],
   "source": [
    "pd.crosstab(pd_subset_df['D25_3'], pd_subset_df['metro'], normalize = 'columns')"
   ]
  },
  {
   "cell_type": "markdown",
   "id": "02b44b95",
   "metadata": {},
   "source": [
    "### Regression analysis - logistic regression"
   ]
  },
  {
   "cell_type": "code",
   "execution_count": 88,
   "id": "1e27edf9",
   "metadata": {},
   "outputs": [],
   "source": [
    "# Switch to numeric values (1,0)\n",
    "pd_subset_df['D25_3'] = pd_subset_df['D25_3'].astype('int')\n",
    "pd_subset_df['D10_1'] = pd_subset_df['D10_1'].astype('int')\n"
   ]
  },
  {
   "cell_type": "code",
   "execution_count": 96,
   "id": "688f27b8",
   "metadata": {},
   "outputs": [
    {
     "name": "stdout",
     "output_type": "stream",
     "text": [
      "Optimization terminated successfully.\n",
      "         Current function value: 0.392177\n",
      "         Iterations 6\n",
      "                           Logit Regression Results                           \n",
      "==============================================================================\n",
      "Dep. Variable:                  D25_3   No. Observations:              9296862\n",
      "Model:                          Logit   Df Residuals:                  9296859\n",
      "Method:                           MLE   Df Model:                            2\n",
      "Date:                Thu, 29 Apr 2021   Pseudo R-squ.:                 0.05325\n",
      "Time:                        23:09:52   Log-Likelihood:            -3.6460e+06\n",
      "converged:                       True   LL-Null:                   -3.8511e+06\n",
      "Covariance Type:            nonrobust   LLR p-value:                     0.000\n",
      "==============================================================================\n",
      "                 coef    std err          z      P>|z|      [0.025      0.975]\n",
      "------------------------------------------------------------------------------\n",
      "Intercept      1.3475      0.002    794.345      0.000       1.344       1.351\n",
      "metro          1.1751      0.002    601.031      0.000       1.171       1.179\n",
      "pvty          -0.0107   7.75e-05   -137.587      0.000      -0.011      -0.011\n",
      "==============================================================================\n"
     ]
    }
   ],
   "source": [
    "import statsmodels.api as sm\n",
    "from statsmodels.formula.api import logit\n",
    "\n",
    "formula = 'D25_3 ~ metro + pvty'\n",
    "\n",
    "d25_3_mod = logit(formula, data = pd_subset_df).fit()\n",
    "print(d25_3_mod.summary())"
   ]
  },
  {
   "cell_type": "markdown",
   "id": "16aa8d32",
   "metadata": {},
   "source": [
    "Poverty is likely collinear with other variables. The coefficient for poverty is unstable depending on the combination of other dependent variables. The use of poverty directly could be problematic given its inextricable relationship with other social variables."
   ]
  },
  {
   "cell_type": "code",
   "execution_count": 97,
   "id": "e887fb35",
   "metadata": {},
   "outputs": [
    {
     "name": "stdout",
     "output_type": "stream",
     "text": [
      "Optimization terminated successfully.\n",
      "         Current function value: 0.387085\n",
      "         Iterations 7\n",
      "                           Logit Regression Results                           \n",
      "==============================================================================\n",
      "Dep. Variable:                  D25_3   No. Observations:              9294160\n",
      "Model:                          Logit   Df Residuals:                  9294156\n",
      "Method:                           MLE   Df Model:                            3\n",
      "Date:                Thu, 29 Apr 2021   Pseudo R-squ.:                 0.06554\n",
      "Time:                        23:10:25   Log-Likelihood:            -3.5976e+06\n",
      "converged:                       True   LL-Null:                   -3.8500e+06\n",
      "Covariance Type:            nonrobust   LLR p-value:                     0.000\n",
      "==============================================================================\n",
      "                 coef    std err          z      P>|z|      [0.025      0.975]\n",
      "------------------------------------------------------------------------------\n",
      "Intercept      0.7415      0.003    281.471      0.000       0.736       0.747\n",
      "metro          1.0152      0.002    506.304      0.000       1.011       1.019\n",
      "pvty          -0.0001   8.66e-05     -1.405      0.160      -0.000    4.81e-05\n",
      "educ           0.0233   8.03e-05    290.117      0.000       0.023       0.023\n",
      "==============================================================================\n"
     ]
    }
   ],
   "source": [
    "formula = 'D25_3 ~ metro + pvty + educ'\n",
    "\n",
    "d25_3_mod = logit(formula, data = pd_subset_df).fit()\n",
    "print(d25_3_mod.summary())"
   ]
  },
  {
   "cell_type": "markdown",
   "id": "98e6031b",
   "metadata": {},
   "source": [
    "This version seems to work better. \n",
    "\n",
    "Key takeaways:\n",
    "\n",
    "- Surprisingly, the race factor does not seem to have much predictive power.\n",
    "- But the share of population thta is a veteran does. \n",
    "- Whether the census block is a metro area matters the most.\n",
    "- Economic status of the region (measured by employed-to-population (civilian noninstitutionalized) ratio) is also an important factor.\n",
    "- Having computing device at home is another important variable, but this relationship is pretty obvious."
   ]
  },
  {
   "cell_type": "code",
   "execution_count": 103,
   "id": "9966486e",
   "metadata": {},
   "outputs": [
    {
     "name": "stdout",
     "output_type": "stream",
     "text": [
      "Optimization terminated successfully.\n",
      "         Current function value: 0.381984\n",
      "         Iterations 7\n",
      "                           Logit Regression Results                           \n",
      "==============================================================================\n",
      "Dep. Variable:                  D25_3   No. Observations:              9294160\n",
      "Model:                          Logit   Df Residuals:                  9294154\n",
      "Method:                           MLE   Df Model:                            5\n",
      "Date:                Thu, 29 Apr 2021   Pseudo R-squ.:                 0.07785\n",
      "Time:                        23:17:32   Log-Likelihood:            -3.5502e+06\n",
      "converged:                       True   LL-Null:                   -3.8500e+06\n",
      "Covariance Type:            nonrobust   LLR p-value:                     0.000\n",
      "==============================================================================\n",
      "                 coef    std err          z      P>|z|      [0.025      0.975]\n",
      "------------------------------------------------------------------------------\n",
      "Intercept      0.0169      0.006      3.031      0.002       0.006       0.028\n",
      "metro          0.9802      0.002    470.735      0.000       0.976       0.984\n",
      "epop           0.0251      0.000    229.186      0.000       0.025       0.025\n",
      "educ           0.0182   7.83e-05    233.177      0.000       0.018       0.018\n",
      "nwhite        -0.0005   4.53e-05    -11.940      0.000      -0.001      -0.000\n",
      "veteran       -0.0381      0.000   -158.558      0.000      -0.039      -0.038\n",
      "==============================================================================\n"
     ]
    }
   ],
   "source": [
    "formula = 'D25_3 ~ metro + epop + educ + nwhite + veteran'\n",
    "\n",
    "d25_3_mod = logit(formula, data = pd_subset_df).fit()\n",
    "print(d25_3_mod.summary())"
   ]
  },
  {
   "cell_type": "code",
   "execution_count": 104,
   "id": "7ffb89a8",
   "metadata": {},
   "outputs": [
    {
     "name": "stdout",
     "output_type": "stream",
     "text": [
      "Optimization terminated successfully.\n",
      "         Current function value: 0.379221\n",
      "         Iterations 7\n",
      "                           Logit Regression Results                           \n",
      "==============================================================================\n",
      "Dep. Variable:                  D25_3   No. Observations:              9294160\n",
      "Model:                          Logit   Df Residuals:                  9294153\n",
      "Method:                           MLE   Df Model:                            6\n",
      "Date:                Thu, 29 Apr 2021   Pseudo R-squ.:                 0.08452\n",
      "Time:                        23:19:04   Log-Likelihood:            -3.5245e+06\n",
      "converged:                       True   LL-Null:                   -3.8500e+06\n",
      "Covariance Type:            nonrobust   LLR p-value:                     0.000\n",
      "==============================================================================\n",
      "                 coef    std err          z      P>|z|      [0.025      0.975]\n",
      "------------------------------------------------------------------------------\n",
      "Intercept     -1.6212      0.009   -179.429      0.000      -1.639      -1.603\n",
      "metro          0.9074      0.002    431.053      0.000       0.903       0.912\n",
      "epop           0.0182      0.000    160.145      0.000       0.018       0.018\n",
      "educ           0.0127   8.17e-05    154.892      0.000       0.012       0.013\n",
      "nwhite         0.0018   4.67e-05     37.883      0.000       0.002       0.002\n",
      "veteran       -0.0406      0.000   -168.114      0.000      -0.041      -0.040\n",
      "computer       0.0243      0.000    227.764      0.000       0.024       0.025\n",
      "==============================================================================\n"
     ]
    }
   ],
   "source": [
    "formula = 'D25_3 ~ metro + epop + educ + nwhite + veteran + computer'\n",
    "\n",
    "d25_3_mod = logit(formula, data = pd_subset_df).fit()\n",
    "print(d25_3_mod.summary())"
   ]
  },
  {
   "cell_type": "markdown",
   "id": "b443bd5a",
   "metadata": {},
   "source": [
    "Metro areas are close to 99% more likely to get service that's better than 25Mb/3Mb than nonmetro areas, controling for other social and demographic variables."
   ]
  },
  {
   "cell_type": "code",
   "execution_count": 112,
   "id": "b235f4a8",
   "metadata": {},
   "outputs": [
    {
     "data": {
      "text/plain": [
       "1.9920069982190758"
      ]
     },
     "execution_count": 112,
     "metadata": {},
     "output_type": "execute_result"
    }
   ],
   "source": [
    "control = np.exp(-1.6212) / (1 + np.exp(-1.6212))\n",
    "np.exp(0.9074) / (1 - control + (control * np.exp(0.9074)))"
   ]
  },
  {
   "cell_type": "code",
   "execution_count": 111,
   "id": "20eddd34",
   "metadata": {},
   "outputs": [
    {
     "name": "stdout",
     "output_type": "stream",
     "text": [
      "Optimization terminated successfully.\n",
      "         Current function value: 0.242326\n",
      "         Iterations 7\n",
      "                           Logit Regression Results                           \n",
      "==============================================================================\n",
      "Dep. Variable:                  D10_1   No. Observations:              9294160\n",
      "Model:                          Logit   Df Residuals:                  9294153\n",
      "Method:                           MLE   Df Model:                            6\n",
      "Date:                Thu, 29 Apr 2021   Pseudo R-squ.:                 0.06282\n",
      "Time:                        23:46:25   Log-Likelihood:            -2.2522e+06\n",
      "converged:                       True   LL-Null:                   -2.4032e+06\n",
      "Covariance Type:            nonrobust   LLR p-value:                     0.000\n",
      "==============================================================================\n",
      "                 coef    std err          z      P>|z|      [0.025      0.975]\n",
      "------------------------------------------------------------------------------\n",
      "Intercept     -0.2272      0.011    -19.874      0.000      -0.250      -0.205\n",
      "metro          0.8860      0.003    307.466      0.000       0.880       0.892\n",
      "epop           0.0114      0.000     75.894      0.000       0.011       0.012\n",
      "educ           0.0059      0.000     55.092      0.000       0.006       0.006\n",
      "nwhite        -0.0042   5.88e-05    -70.555      0.000      -0.004      -0.004\n",
      "veteran       -0.0486      0.000   -156.202      0.000      -0.049      -0.048\n",
      "computer       0.0249      0.000    183.397      0.000       0.025       0.025\n",
      "==============================================================================\n"
     ]
    }
   ],
   "source": [
    "formula = 'D10_1 ~ metro + epop + educ + nwhite + veteran + computer'\n",
    "\n",
    "d10_1_mod = logit(formula, data = pd_subset_df).fit()\n",
    "print(d10_1_mod.summary())"
   ]
  },
  {
   "cell_type": "markdown",
   "id": "54c91187",
   "metadata": {},
   "source": [
    "Metro areas are close to 49% more likely to get service that's better than 10Mb/1Mb than nonmetro areas, controling for other social and demographic variables."
   ]
  },
  {
   "cell_type": "code",
   "execution_count": 113,
   "id": "b4a92218",
   "metadata": {},
   "outputs": [
    {
     "data": {
      "text/plain": [
       "1.4860774798167706"
      ]
     },
     "execution_count": 113,
     "metadata": {},
     "output_type": "execute_result"
    }
   ],
   "source": [
    "control = np.exp(-0.2272) / (1 + np.exp(-0.2272))\n",
    "np.exp(0.8860) / (1 - control + (control * np.exp(0.8860)))"
   ]
  },
  {
   "cell_type": "markdown",
   "id": "a77e4d9e",
   "metadata": {},
   "source": [
    "While economic variables seem to matter for broadband availability, geographical features seem to play a bigger role. The road data from the Census Bureau's TIGER database should be introduced."
   ]
  }
 ],
 "metadata": {
  "kernelspec": {
   "display_name": "Python 3",
   "language": "python",
   "name": "python3"
  },
  "language_info": {
   "codemirror_mode": {
    "name": "ipython",
    "version": 3
   },
   "file_extension": ".py",
   "mimetype": "text/x-python",
   "name": "python",
   "nbconvert_exporter": "python",
   "pygments_lexer": "ipython3",
   "version": "3.8.8"
  }
 },
 "nbformat": 4,
 "nbformat_minor": 5
}
